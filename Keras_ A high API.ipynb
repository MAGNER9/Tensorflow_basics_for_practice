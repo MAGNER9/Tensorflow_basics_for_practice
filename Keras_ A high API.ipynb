{
 "cells": [
  {
   "cell_type": "markdown",
   "id": "aea818d1",
   "metadata": {},
   "source": [
    "# Keras, High level API for TF"
   ]
  },
  {
   "cell_type": "markdown",
   "id": "0c28ce1a",
   "metadata": {},
   "source": [
    "* `To build a Keras Sequential model, you add layers to it in the same order that you want the computations to be undertaken by the network.`\n",
    "\n",
    "* `After you have built your model, you compile it; this optimizes the computations that are to be undertaken, and is where you allocate the optimizer and the loss function you want your model to use.`\n",
    "\n",
    "* `The next stage is to fit the model to the data. This is commonly known as training the model, and is where all the computations take place. It is possible to present the data to the model either in batches, or all at once.`\n",
    "\n",
    "* `Next, you evaluate your model to establish its accuracy, loss, and other metrics. Finally, having trained your model, you can use it to make predictions on new data. So, the workflow is: build, compile, fit, evaluate, make predictions.`\n",
    "\n",
    "* `There are two ways to create a Sequential model. Let's take a look at each of them.`"
   ]
  },
  {
   "cell_type": "markdown",
   "id": "b9f2b6b5",
   "metadata": {},
   "source": [
    "### Using Sequential model\n",
    "\n",
    "`Firstly, you can pass a list of layer instances to the constructor, as in the following example.For now, we will just explain enough to allow you to understand what is happening here.`\n",
    "\n",
    "`Acquire the data. MNIST is a dataset of hand-drawn numerals, each on a 28 x 28 pixel grid. Every individual data point is an unsigned 8-bit integer (uint8), as are the labels:`"
   ]
  },
  {
   "cell_type": "code",
   "execution_count": 2,
   "id": "c8850882",
   "metadata": {},
   "outputs": [
    {
     "name": "stderr",
     "output_type": "stream",
     "text": [
      "C:\\Users\\thema\\.conda\\envs\\myenvy\\lib\\site-packages\\numpy\\_distributor_init.py:30: UserWarning: loaded more than 1 DLL from .libs:\n",
      "C:\\Users\\thema\\.conda\\envs\\myenvy\\lib\\site-packages\\numpy\\.libs\\libopenblas.NOIJJG62EMASZI6NYURL6JBKM4EVBGM7.gfortran-win_amd64.dll\n",
      "C:\\Users\\thema\\.conda\\envs\\myenvy\\lib\\site-packages\\numpy\\.libs\\libopenblas.WCDJNK7YVMPZQ2ME2ZZHJJRJ3JIKNDB7.gfortran-win_amd64.dll\n",
      "  warnings.warn(\"loaded more than 1 DLL from .libs:\"\n"
     ]
    }
   ],
   "source": [
    "import tensorflow as tf\n",
    "# Loading dataset\n",
    "mnist_data = tf.keras.datasets.mnist\n",
    "(train_x,train_y), (test_x, test_y) = mnist_data.load_data()"
   ]
  },
  {
   "cell_type": "code",
   "execution_count": 3,
   "id": "cbfaf735",
   "metadata": {},
   "outputs": [],
   "source": [
    "# Defining Variables\n",
    "epochs=10\n",
    "batch_size = 32"
   ]
  },
  {
   "cell_type": "code",
   "execution_count": 4,
   "id": "ee3f05b0",
   "metadata": {},
   "outputs": [],
   "source": [
    "# normalize all the data points and cast the labels to int64\n",
    "train_x, test_x = tf.cast(train_x/255.0, tf.float32), tf.cast(test_x/255.0, tf.float32)\n",
    "train_y, test_y = tf.cast(train_y,tf.int64),tf.cast(test_y,tf.int64)"
   ]
  },
  {
   "cell_type": "markdown",
   "id": "a7d163c2",
   "metadata": {},
   "source": [
    "* > ' Building architecture'"
   ]
  },
  {
   "cell_type": "code",
   "execution_count": 12,
   "id": "7c17b615",
   "metadata": {},
   "outputs": [],
   "source": [
    "mnistmodel1 = tf.keras.models.Sequential([\n",
    "                    tf.keras.layers.Flatten(),\n",
    "                    tf.keras.layers.Dense(512,activation=tf.nn.relu),\n",
    "                    tf.keras.layers.Dropout(0.2),\n",
    "                    tf.keras.layers.Dense(10,activation=tf.nn.softmax)\n",
    "])\n"
   ]
  },
  {
   "cell_type": "code",
   "execution_count": 15,
   "id": "d56ce3e2",
   "metadata": {},
   "outputs": [
    {
     "data": {
      "text/plain": [
       "<bound method Model.summary of <tensorflow.python.keras.engine.sequential.Sequential object at 0x0000024FB2A7BC70>>"
      ]
     },
     "execution_count": 15,
     "metadata": {},
     "output_type": "execute_result"
    }
   ],
   "source": [
    "mnistmodel1.summary"
   ]
  },
  {
   "cell_type": "code",
   "execution_count": 16,
   "id": "84bdb9fc",
   "metadata": {},
   "outputs": [],
   "source": [
    "optimiser = tf.keras.optimizers.Adam()\n",
    "mnistmodel1.compile (optimizer= optimiser, loss='sparse_categorical_crossentropy', metrics = ['accuracy'])"
   ]
  },
  {
   "cell_type": "markdown",
   "id": "a5820db1",
   "metadata": {},
   "source": [
    "* Fitting the model"
   ]
  },
  {
   "cell_type": "code",
   "execution_count": 17,
   "id": "b0c0ea5b",
   "metadata": {},
   "outputs": [
    {
     "name": "stdout",
     "output_type": "stream",
     "text": [
      "Epoch 1/5\n",
      "1875/1875 [==============================] - 8s 4ms/step - loss: 0.2187 - accuracy: 0.9353\n",
      "Epoch 2/5\n",
      "1875/1875 [==============================] - 8s 4ms/step - loss: 0.0957 - accuracy: 0.9709\n",
      "Epoch 3/5\n",
      "1875/1875 [==============================] - 9s 5ms/step - loss: 0.0687 - accuracy: 0.9782\n",
      "Epoch 4/5\n",
      "1875/1875 [==============================] - 9s 5ms/step - loss: 0.0534 - accuracy: 0.9831\n",
      "Epoch 5/5\n",
      "1875/1875 [==============================] - 8s 4ms/step - loss: 0.0416 - accuracy: 0.9863\n"
     ]
    },
    {
     "data": {
      "text/plain": [
       "<tensorflow.python.keras.callbacks.History at 0x24fb21ffa00>"
      ]
     },
     "execution_count": 17,
     "metadata": {},
     "output_type": "execute_result"
    }
   ],
   "source": [
    "mnistmodel1.fit(train_x, train_y, batch_size=32, epochs=5)"
   ]
  },
  {
   "cell_type": "code",
   "execution_count": 18,
   "id": "4ccb456f",
   "metadata": {},
   "outputs": [
    {
     "name": "stdout",
     "output_type": "stream",
     "text": [
      "313/313 [==============================] - 1s 2ms/step - loss: 0.0695 - accuracy: 0.9798\n"
     ]
    },
    {
     "data": {
      "text/plain": [
       "[0.06947249919176102, 0.9797999858856201]"
      ]
     },
     "execution_count": 18,
     "metadata": {},
     "output_type": "execute_result"
    }
   ],
   "source": [
    "# model evaluation\n",
    "mnistmodel1.evaluate(test_x, test_y)"
   ]
  },
  {
   "cell_type": "markdown",
   "id": "a8580c74",
   "metadata": {},
   "source": [
    ">This represents a loss of 0.09 and an accuracy of 0.9801 on the test data. \n",
    "\n",
    ">An accuracy of 0.98 means that out of 100 test data points, 98 were, on average, correctly identified by the model."
   ]
  },
  {
   "cell_type": "markdown",
   "id": "7702cc64",
   "metadata": {},
   "source": [
    "The second way to create a Sequential model\n",
    "The alternative to passing a list of layers to the Sequential model's constructor is to use the add method, as follows, for the same architecture:\n",
    "\n"
   ]
  },
  {
   "cell_type": "markdown",
   "id": "0d9190c9",
   "metadata": {},
   "source": [
    "#### Building the Architecture & Compiling"
   ]
  },
  {
   "cell_type": "code",
   "execution_count": 21,
   "id": "59c5bd65",
   "metadata": {},
   "outputs": [],
   "source": [
    "mnistmodel2 = tf.keras.models.Sequential();\n",
    "mnistmodel2.add(tf.keras.layers.Flatten())\n",
    "mnistmodel2.add(tf.keras.layers.Dense(512, activation='relu'))\n",
    "mnistmodel2.add(tf.keras.layers.Dropout(0.2))\n",
    "mnistmodel2.add(tf.keras.layers.Dense(10,activation=tf.nn.softmax))\n",
    "mnistmodel2.compile (optimizer= tf.keras.optimizers.Adam(), loss='sparse_categorical_crossentropy',metrics = ['accuracy'])"
   ]
  },
  {
   "cell_type": "code",
   "execution_count": 22,
   "id": "f544c80c",
   "metadata": {},
   "outputs": [
    {
     "name": "stdout",
     "output_type": "stream",
     "text": [
      "Epoch 1/5\n",
      "938/938 [==============================] - 5s 5ms/step - loss: 0.2460 - accuracy: 0.9297\n",
      "Epoch 2/5\n",
      "938/938 [==============================] - 5s 5ms/step - loss: 0.1040 - accuracy: 0.9684\n",
      "Epoch 3/5\n",
      "938/938 [==============================] - 4s 4ms/step - loss: 0.0743 - accuracy: 0.9772\n",
      "Epoch 4/5\n",
      "938/938 [==============================] - 4s 4ms/step - loss: 0.0542 - accuracy: 0.9834\n",
      "Epoch 5/5\n",
      "938/938 [==============================] - 4s 5ms/step - loss: 0.0430 - accuracy: 0.9866\n"
     ]
    },
    {
     "data": {
      "text/plain": [
       "<tensorflow.python.keras.callbacks.History at 0x24fb3aa3790>"
      ]
     },
     "execution_count": 22,
     "metadata": {},
     "output_type": "execute_result"
    }
   ],
   "source": [
    "# Fitting the model\n",
    "mnistmodel2.fit(train_x, train_y, batch_size=64, epochs=5)"
   ]
  },
  {
   "cell_type": "code",
   "execution_count": 23,
   "id": "5b3402b2",
   "metadata": {},
   "outputs": [
    {
     "name": "stdout",
     "output_type": "stream",
     "text": [
      "313/313 [==============================] - 1s 2ms/step - loss: 0.0582 - accuracy: 0.9817\n"
     ]
    },
    {
     "data": {
      "text/plain": [
       "[0.05818541720509529, 0.9817000031471252]"
      ]
     },
     "execution_count": 23,
     "metadata": {},
     "output_type": "execute_result"
    }
   ],
   "source": [
    "# Evaluation\n",
    "mnistmodel2.evaluate(test_x, test_y)"
   ]
  },
  {
   "cell_type": "markdown",
   "id": "b9ce24e7",
   "metadata": {},
   "source": [
    "### Keras functional API\n",
    "\n",
    "`The functional API lets you build much more complex architectures than the simple linear stack of Sequential models we have seen previously. It also supports more advanced models. These models include multi-input and multi-output models, models with shared layers, and models with residual connections.`"
   ]
  },
  {
   "cell_type": "code",
   "execution_count": 24,
   "id": "e6770685",
   "metadata": {},
   "outputs": [],
   "source": [
    "import tensorflow as tf\n",
    "mnist = tf.keras.datasets.mnist\n",
    "(train_x,train_y), (test_x, test_y) = mnist.load_data()\n",
    "train_x, test_x = train_x/255.0, test_x/255.0\n",
    "epochs=10\n"
   ]
  },
  {
   "cell_type": "code",
   "execution_count": 25,
   "id": "051a799d",
   "metadata": {},
   "outputs": [],
   "source": [
    "# Building the architecture\n",
    "input_ = tf.keras.layers.Input(shape=(28,28), name=\"input_layer\") # Returns a 'placeholder' tensor\n",
    "flatten = tf.keras.layers.Flatten(name=\"flattenLayer\")(input_)\n",
    "hidden_1 = tf.keras.layers.Dense(512, activation='relu',name='hiddenLayer_01')(flatten)\n",
    "hidden_2 = tf.keras.layers.Dense(256, activation='relu', name=\"hiddenLayer_02\")(hidden_1)\n",
    "concat = tf.keras.layers.Concatenate()([flatten, hidden_2])\n",
    "predictions = tf.keras.layers.Dense(10,activation=tf.nn.softmax, name='predictionLayer')(concat)\n",
    "mnistmodel3 = tf.keras.Model(inputs=[input_], outputs=predictions)"
   ]
  },
  {
   "cell_type": "code",
   "execution_count": 26,
   "id": "23529d3e",
   "metadata": {},
   "outputs": [
    {
     "name": "stdout",
     "output_type": "stream",
     "text": [
      "Model: \"model\"\n",
      "__________________________________________________________________________________________________\n",
      "Layer (type)                    Output Shape         Param #     Connected to                     \n",
      "==================================================================================================\n",
      "input_layer (InputLayer)        [(None, 28, 28)]     0                                            \n",
      "__________________________________________________________________________________________________\n",
      "flattenLayer (Flatten)          (None, 784)          0           input_layer[0][0]                \n",
      "__________________________________________________________________________________________________\n",
      "hiddenLayer_01 (Dense)          (None, 512)          401920      flattenLayer[0][0]               \n",
      "__________________________________________________________________________________________________\n",
      "hiddenLayer_02 (Dense)          (None, 256)          131328      hiddenLayer_01[0][0]             \n",
      "__________________________________________________________________________________________________\n",
      "concatenate (Concatenate)       (None, 1040)         0           flattenLayer[0][0]               \n",
      "                                                                 hiddenLayer_02[0][0]             \n",
      "__________________________________________________________________________________________________\n",
      "predictionLayer (Dense)         (None, 10)           10410       concatenate[0][0]                \n",
      "==================================================================================================\n",
      "Total params: 543,658\n",
      "Trainable params: 543,658\n",
      "Non-trainable params: 0\n",
      "__________________________________________________________________________________________________\n"
     ]
    }
   ],
   "source": [
    "mnistmodel3.summary()"
   ]
  },
  {
   "cell_type": "code",
   "execution_count": 27,
   "id": "8f1e102d",
   "metadata": {},
   "outputs": [
    {
     "name": "stdout",
     "output_type": "stream",
     "text": [
      "Epoch 1/10\n",
      "1875/1875 [==============================] - 11s 6ms/step - loss: 0.1941 - accuracy: 0.9417\n",
      "Epoch 2/10\n",
      "1875/1875 [==============================] - 13s 7ms/step - loss: 0.0794 - accuracy: 0.9757\n",
      "Epoch 3/10\n",
      "1875/1875 [==============================] - 10s 5ms/step - loss: 0.0561 - accuracy: 0.9823\n",
      "Epoch 4/10\n",
      "1875/1875 [==============================] - 10s 5ms/step - loss: 0.0408 - accuracy: 0.9869\n",
      "Epoch 5/10\n",
      "1875/1875 [==============================] - 10s 5ms/step - loss: 0.0317 - accuracy: 0.9896\n",
      "Epoch 6/10\n",
      "1875/1875 [==============================] - 11s 6ms/step - loss: 0.0278 - accuracy: 0.9909\n",
      "Epoch 7/10\n",
      "1875/1875 [==============================] - 11s 6ms/step - loss: 0.0231 - accuracy: 0.9923\n",
      "Epoch 8/10\n",
      "1875/1875 [==============================] - 10s 6ms/step - loss: 0.0222 - accuracy: 0.9930\n",
      "Epoch 9/10\n",
      "1875/1875 [==============================] - 10s 6ms/step - loss: 0.0188 - accuracy: 0.9938\n",
      "Epoch 10/10\n",
      "1875/1875 [==============================] - 11s 6ms/step - loss: 0.0162 - accuracy: 0.9948\n"
     ]
    },
    {
     "data": {
      "text/plain": [
       "<tensorflow.python.keras.callbacks.History at 0x24fb41f6730>"
      ]
     },
     "execution_count": 27,
     "metadata": {},
     "output_type": "execute_result"
    }
   ],
   "source": [
    "# Compile and fit\n",
    "optimiser = tf.keras.optimizers.Adam()\n",
    "\n",
    "tensorboard_cb = tf.keras.callbacks.TensorBoard(\"./log_dir/mnistmodel3\")\n",
    "\n",
    "mnistmodel3.compile (optimizer= optimiser, loss='sparse_categorical_crossentropy', metrics = ['accuracy'])\n",
    "mnistmodel3.fit(train_x, train_y, batch_size=32, epochs=epochs, callbacks=[tensorboard_cb])"
   ]
  },
  {
   "cell_type": "code",
   "execution_count": 28,
   "id": "588089e4",
   "metadata": {},
   "outputs": [
    {
     "name": "stdout",
     "output_type": "stream",
     "text": [
      "313/313 [==============================] - 1s 2ms/step - loss: 0.0935 - accuracy: 0.9813\n"
     ]
    },
    {
     "data": {
      "text/plain": [
       "[0.09350815415382385, 0.9812999963760376]"
      ]
     },
     "execution_count": 28,
     "metadata": {},
     "output_type": "execute_result"
    }
   ],
   "source": [
    "# Evaluation\n",
    "mnistmodel3.evaluate(test_x, test_y)"
   ]
  },
  {
   "cell_type": "code",
   "execution_count": 29,
   "id": "0a2e791e",
   "metadata": {},
   "outputs": [
    {
     "data": {
      "text/html": [
       "\n",
       "      <iframe id=\"tensorboard-frame-4671c8751eecad91\" width=\"100%\" height=\"800\" frameborder=\"0\">\n",
       "      </iframe>\n",
       "      <script>\n",
       "        (function() {\n",
       "          const frame = document.getElementById(\"tensorboard-frame-4671c8751eecad91\");\n",
       "          const url = new URL(\"/\", window.location);\n",
       "          const port = 6006;\n",
       "          if (port) {\n",
       "            url.port = port;\n",
       "          }\n",
       "          frame.src = url;\n",
       "        })();\n",
       "      </script>\n",
       "    "
      ],
      "text/plain": [
       "<IPython.core.display.HTML object>"
      ]
     },
     "metadata": {},
     "output_type": "display_data"
    }
   ],
   "source": [
    "%load_ext tensorboard\n",
    "%tensorboard --logdir ./log_dir/mnistmodel3"
   ]
  },
  {
   "cell_type": "markdown",
   "id": "fc664c8d",
   "metadata": {},
   "source": [
    "### Subclassing the Keras Model class"
   ]
  },
  {
   "cell_type": "code",
   "execution_count": 30,
   "id": "4987661b",
   "metadata": {},
   "outputs": [],
   "source": [
    "import tensorflow as tf\n",
    "mnist = tf.keras.datasets.mnist\n",
    "(train_x,train_y), (test_x, test_y) = mnist.load_data()\n",
    "train_x, test_x = train_x/255.0, test_x/255.0\n",
    "epochs=10\n"
   ]
  },
  {
   "cell_type": "markdown",
   "id": "8451f94c",
   "metadata": {},
   "source": [
    "#### Building the subclass architecture\n",
    "Used to gain more control"
   ]
  },
  {
   "cell_type": "code",
   "execution_count": 32,
   "id": "c6b1617a",
   "metadata": {},
   "outputs": [],
   "source": [
    "class SubClassingModel(tf.keras.Model):\n",
    "    def __init__(self, ACTIVATION=\"relu\", **kwargs):\n",
    "        super().__init__(**kwargs)\n",
    "        self.flatten = tf.keras.layers.Flatten()\n",
    "        self.hidden_1 = tf.keras.layers.Dense(512, activation=ACTIVATION)\n",
    "        self.hidden_2 = tf.keras.layers.Dense(256, activation=ACTIVATION)\n",
    "        self.concat = tf.keras.layers.Concatenate()\n",
    "        self.predictions = tf.keras.layers.Dense(10, activation=tf.nn.softmax)\n",
    "\n",
    "    def call(self, input_):\n",
    "        flatten = self.flatten(input_)\n",
    "        hidden_1 = self.hidden_1(flatten)\n",
    "        hidden_2 = self.hidden_2(hidden_1)\n",
    "        concat = self.concat([flatten, hidden_2])\n",
    "        predictions = self.predictions(concat)\n",
    "        return predictions"
   ]
  },
  {
   "cell_type": "code",
   "execution_count": 33,
   "id": "b2af06ff",
   "metadata": {},
   "outputs": [],
   "source": [
    "mnistmodel4 = SubClassingModel()"
   ]
  },
  {
   "cell_type": "code",
   "execution_count": 34,
   "id": "fb488911",
   "metadata": {},
   "outputs": [],
   "source": [
    "# mnistmodel4.summary() ## Observe"
   ]
  },
  {
   "cell_type": "code",
   "execution_count": 35,
   "id": "b673eea8",
   "metadata": {},
   "outputs": [
    {
     "name": "stdout",
     "output_type": "stream",
     "text": [
      "Epoch 1/10\n",
      "1875/1875 [==============================] - 13s 6ms/step - loss: 0.1939 - accuracy: 0.9411\n",
      "Epoch 2/10\n",
      "1875/1875 [==============================] - 12s 7ms/step - loss: 0.0791 - accuracy: 0.9751\n",
      "Epoch 3/10\n",
      "1875/1875 [==============================] - 12s 6ms/step - loss: 0.0545 - accuracy: 0.9824\n",
      "Epoch 4/10\n",
      "1875/1875 [==============================] - 9s 5ms/step - loss: 0.0412 - accuracy: 0.9873\n",
      "Epoch 5/10\n",
      "1875/1875 [==============================] - 9s 5ms/step - loss: 0.0343 - accuracy: 0.9885\n",
      "Epoch 6/10\n",
      "1875/1875 [==============================] - 11s 6ms/step - loss: 0.0258 - accuracy: 0.9916\n",
      "Epoch 7/10\n",
      "1875/1875 [==============================] - 10s 5ms/step - loss: 0.0232 - accuracy: 0.9923\n",
      "Epoch 8/10\n",
      "1875/1875 [==============================] - 10s 5ms/step - loss: 0.0217 - accuracy: 0.9929\n",
      "Epoch 9/10\n",
      "1875/1875 [==============================] - 10s 5ms/step - loss: 0.0189 - accuracy: 0.9939\n",
      "Epoch 10/10\n",
      "1875/1875 [==============================] - 10s 5ms/step - loss: 0.0173 - accuracy: 0.9945\n"
     ]
    },
    {
     "data": {
      "text/plain": [
       "<tensorflow.python.keras.callbacks.History at 0x24fb5a4b940>"
      ]
     },
     "execution_count": 35,
     "metadata": {},
     "output_type": "execute_result"
    }
   ],
   "source": [
    "# Compile and fit\n",
    "optimiser = tf.keras.optimizers.Adam()\n",
    "\n",
    "tensorboard_cb = tf.keras.callbacks.TensorBoard(\"./log_dir/SubClassingModel\")\n",
    "\n",
    "mnistmodel4.compile (optimizer= optimiser, loss='sparse_categorical_crossentropy', metrics = ['accuracy'])\n",
    "mnistmodel4.fit(train_x, train_y, batch_size=32, epochs=epochs, callbacks=[tensorboard_cb])"
   ]
  },
  {
   "cell_type": "code",
   "execution_count": 36,
   "id": "96f1c7c3",
   "metadata": {},
   "outputs": [
    {
     "name": "stdout",
     "output_type": "stream",
     "text": [
      "Model: \"sub_classing_model\"\n",
      "_________________________________________________________________\n",
      "Layer (type)                 Output Shape              Param #   \n",
      "=================================================================\n",
      "flatten_4 (Flatten)          multiple                  0         \n",
      "_________________________________________________________________\n",
      "dense_8 (Dense)              multiple                  401920    \n",
      "_________________________________________________________________\n",
      "dense_9 (Dense)              multiple                  131328    \n",
      "_________________________________________________________________\n",
      "concatenate_1 (Concatenate)  multiple                  0         \n",
      "_________________________________________________________________\n",
      "dense_10 (Dense)             multiple                  10410     \n",
      "=================================================================\n",
      "Total params: 543,658\n",
      "Trainable params: 543,658\n",
      "Non-trainable params: 0\n",
      "_________________________________________________________________\n"
     ]
    }
   ],
   "source": [
    "mnistmodel4.summary() ## Observe"
   ]
  },
  {
   "cell_type": "code",
   "execution_count": 37,
   "id": "bb10e641",
   "metadata": {},
   "outputs": [
    {
     "name": "stdout",
     "output_type": "stream",
     "text": [
      "313/313 [==============================] - 1s 2ms/step - loss: 0.0896 - accuracy: 0.9808: 0s - loss: 0.1228 \n"
     ]
    },
    {
     "data": {
      "text/plain": [
       "[0.08955765515565872, 0.9807999730110168]"
      ]
     },
     "execution_count": 37,
     "metadata": {},
     "output_type": "execute_result"
    }
   ],
   "source": [
    "#Evaluate\n",
    "mnistmodel4.evaluate(test_x, test_y)"
   ]
  },
  {
   "cell_type": "code",
   "execution_count": 38,
   "id": "faa28624",
   "metadata": {},
   "outputs": [
    {
     "name": "stdout",
     "output_type": "stream",
     "text": [
      "The tensorboard extension is already loaded. To reload it, use:\n",
      "  %reload_ext tensorboard\n"
     ]
    },
    {
     "data": {
      "text/html": [
       "\n",
       "      <iframe id=\"tensorboard-frame-bd66964ace6de1ea\" width=\"100%\" height=\"800\" frameborder=\"0\">\n",
       "      </iframe>\n",
       "      <script>\n",
       "        (function() {\n",
       "          const frame = document.getElementById(\"tensorboard-frame-bd66964ace6de1ea\");\n",
       "          const url = new URL(\"/\", window.location);\n",
       "          const port = 6006;\n",
       "          if (port) {\n",
       "            url.port = port;\n",
       "          }\n",
       "          frame.src = url;\n",
       "        })();\n",
       "      </script>\n",
       "    "
      ],
      "text/plain": [
       "<IPython.core.display.HTML object>"
      ]
     },
     "metadata": {},
     "output_type": "display_data"
    }
   ],
   "source": [
    "%load_ext tensorboard\n",
    "%tensorboard --logdir ./log_dir/SubClassingModel\n",
    "\n",
    "# graph visualisation will be failed as graphs is not generated because we are using subclassing"
   ]
  },
  {
   "cell_type": "markdown",
   "id": "3932f36e",
   "metadata": {},
   "source": [
    "#### Still you can create graphs by following tweak -"
   ]
  },
  {
   "cell_type": "code",
   "execution_count": 39,
   "id": "3677edec",
   "metadata": {},
   "outputs": [
    {
     "name": "stdout",
     "output_type": "stream",
     "text": [
      "Model: \"model_1\"\n",
      "__________________________________________________________________________________________________\n",
      "Layer (type)                    Output Shape         Param #     Connected to                     \n",
      "==================================================================================================\n",
      "input_layer (InputLayer)        [(None, 28, 28)]     0                                            \n",
      "__________________________________________________________________________________________________\n",
      "flatten_5 (Flatten)             (None, 784)          0           input_layer[0][0]                \n",
      "__________________________________________________________________________________________________\n",
      "dense_11 (Dense)                (None, 512)          401920      flatten_5[0][0]                  \n",
      "__________________________________________________________________________________________________\n",
      "dense_12 (Dense)                (None, 256)          131328      dense_11[0][0]                   \n",
      "__________________________________________________________________________________________________\n",
      "concatenate_2 (Concatenate)     (None, 1040)         0           flatten_5[0][0]                  \n",
      "                                                                 dense_12[0][0]                   \n",
      "__________________________________________________________________________________________________\n",
      "dense_13 (Dense)                (None, 10)           10410       concatenate_2[0][0]              \n",
      "==================================================================================================\n",
      "Total params: 543,658\n",
      "Trainable params: 543,658\n",
      "Non-trainable params: 0\n",
      "__________________________________________________________________________________________________\n"
     ]
    }
   ],
   "source": [
    "class SubClassingModel2(tf.keras.Model):\n",
    "    def __init__(self, ACTIVATION=\"relu\", dim=None, **kwargs):\n",
    "        super().__init__(**kwargs)\n",
    "        self.dim = dim\n",
    "        self.flatten = tf.keras.layers.Flatten()\n",
    "        self.hidden_1 = tf.keras.layers.Dense(512, activation=ACTIVATION)\n",
    "        self.hidden_2 = tf.keras.layers.Dense(256, activation=ACTIVATION)\n",
    "        self.concat = tf.keras.layers.Concatenate()\n",
    "        self.predictions = tf.keras.layers.Dense(10, activation=tf.nn.softmax)\n",
    "\n",
    "    def call(self, input_):\n",
    "        flatten = self.flatten(input_)\n",
    "        hidden_1 = self.hidden_1(flatten)\n",
    "        hidden_2 = self.hidden_2(hidden_1)\n",
    "        concat = self.concat([flatten, hidden_2])\n",
    "        predictions = self.predictions(concat)\n",
    "        return predictions\n",
    "\n",
    "\n",
    "    def build_graph(self): ### <<<<<<<< minor tweaking can return graph \n",
    "        x = tf.keras.layers.Input(shape=(28,28), name=\"input_layer\")\n",
    "        return tf.keras.Model(inputs=[x], outputs=self.call(x))\n",
    "\n",
    "model = SubClassingModel2(dim=(28,28))\n",
    "model.build_graph().summary() # observe the summary now and compare it from previous model"
   ]
  },
  {
   "cell_type": "code",
   "execution_count": 40,
   "id": "b8727509",
   "metadata": {},
   "outputs": [
    {
     "name": "stdout",
     "output_type": "stream",
     "text": [
      "Epoch 1/10\n",
      "1875/1875 [==============================] - 12s 6ms/step - loss: 0.1937 - accuracy: 0.9416\n",
      "Epoch 2/10\n",
      "1875/1875 [==============================] - 11s 6ms/step - loss: 0.0779 - accuracy: 0.9754\n",
      "Epoch 3/10\n",
      "1875/1875 [==============================] - 9s 5ms/step - loss: 0.0528 - accuracy: 0.9831\n",
      "Epoch 4/10\n",
      "1875/1875 [==============================] - 10s 5ms/step - loss: 0.0423 - accuracy: 0.9864\n",
      "Epoch 5/10\n",
      "1875/1875 [==============================] - 10s 5ms/step - loss: 0.0323 - accuracy: 0.9898\n",
      "Epoch 6/10\n",
      "1875/1875 [==============================] - 10s 5ms/step - loss: 0.0273 - accuracy: 0.9913\n",
      "Epoch 7/10\n",
      "1875/1875 [==============================] - 10s 5ms/step - loss: 0.0241 - accuracy: 0.9918 0s - loss: 0.023\n",
      "Epoch 8/10\n",
      "1875/1875 [==============================] - 11s 6ms/step - loss: 0.0189 - accuracy: 0.9933\n",
      "Epoch 9/10\n",
      "1875/1875 [==============================] - 12s 6ms/step - loss: 0.0191 - accuracy: 0.9937\n",
      "Epoch 10/10\n",
      "1875/1875 [==============================] - 11s 6ms/step - loss: 0.0166 - accuracy: 0.9947\n"
     ]
    },
    {
     "data": {
      "text/plain": [
       "<tensorflow.python.keras.callbacks.History at 0x24fb69368e0>"
      ]
     },
     "execution_count": 40,
     "metadata": {},
     "output_type": "execute_result"
    }
   ],
   "source": [
    "optimiser = tf.keras.optimizers.Adam()\n",
    "\n",
    "tensorboard_cb = tf.keras.callbacks.TensorBoard(\"./log_dir/model2\")\n",
    "\n",
    "model.compile (optimizer= optimiser, loss='sparse_categorical_crossentropy', metrics = ['accuracy'])\n",
    "model.fit(train_x, train_y, batch_size=32, epochs=epochs, callbacks=[tensorboard_cb])"
   ]
  },
  {
   "cell_type": "code",
   "execution_count": 41,
   "id": "f842b682",
   "metadata": {},
   "outputs": [
    {
     "name": "stdout",
     "output_type": "stream",
     "text": [
      "The tensorboard extension is already loaded. To reload it, use:\n",
      "  %reload_ext tensorboard\n"
     ]
    },
    {
     "data": {
      "text/html": [
       "\n",
       "      <iframe id=\"tensorboard-frame-7268e197a8a630fe\" width=\"100%\" height=\"800\" frameborder=\"0\">\n",
       "      </iframe>\n",
       "      <script>\n",
       "        (function() {\n",
       "          const frame = document.getElementById(\"tensorboard-frame-7268e197a8a630fe\");\n",
       "          const url = new URL(\"/\", window.location);\n",
       "          const port = 6006;\n",
       "          if (port) {\n",
       "            url.port = port;\n",
       "          }\n",
       "          frame.src = url;\n",
       "        })();\n",
       "      </script>\n",
       "    "
      ],
      "text/plain": [
       "<IPython.core.display.HTML object>"
      ]
     },
     "metadata": {},
     "output_type": "display_data"
    }
   ],
   "source": [
    "%load_ext tensorboard\n",
    "%tensorboard --logdir ./log_dir/model2\n",
    "\n",
    "# now graph can be seen"
   ]
  },
  {
   "cell_type": "markdown",
   "id": "08a71a2e",
   "metadata": {},
   "source": [
    "## Simple Linear regression example - \n",
    "\n",
    "$f(x) = W \\cdot x + b$"
   ]
  },
  {
   "cell_type": "markdown",
   "id": "e19e6337",
   "metadata": {},
   "source": [
    "#### Create synthetic data points"
   ]
  },
  {
   "cell_type": "code",
   "execution_count": 46,
   "id": "5bbca386",
   "metadata": {},
   "outputs": [],
   "source": [
    "import tensorflow as tf\n",
    "\n",
    "# Ground truth or actual Weight and bias\n",
    "TRUE_W = 3.0\n",
    "TRUE_b = 2.0\n",
    "\n",
    "# total data points\n",
    "NUM_EXAMPLES = 100\n",
    "\n",
    "# A vector of random x values of shape NUM_EXAMPLES\n",
    "x = tf.random.normal(shape=[NUM_EXAMPLES])\n",
    "\n",
    "# Generate some noise\n",
    "noise = tf.random.normal(shape=[NUM_EXAMPLES])\n",
    "\n",
    "# Calculate y\n",
    "y = x * TRUE_W + TRUE_b + noise"
   ]
  },
  {
   "cell_type": "code",
   "execution_count": 47,
   "id": "887240db",
   "metadata": {},
   "outputs": [
    {
     "data": {
      "image/png": "[encoded data removed]",
      "text/plain": [
       "<Figure size 432x288 with 1 Axes>"
      ]
     },
     "metadata": {
      "needs_background": "light"
     },
     "output_type": "display_data"
    }
   ],
   "source": [
    "# Plot all the data\n",
    "import matplotlib.pyplot as plt\n",
    "\n",
    "plt.scatter(x, y, c=\"b\")\n",
    "plt.show()"
   ]
  },
  {
   "cell_type": "markdown",
   "id": "2e361bf4",
   "metadata": {},
   "source": [
    "# Defining the model"
   ]
  },
  {
   "cell_type": "code",
   "execution_count": 58,
   "id": "6fa4bf02",
   "metadata": {},
   "outputs": [
    {
     "name": "stdout",
     "output_type": "stream",
     "text": [
      "Variables:\n",
      " (<tf.Variable 'Variable:0' shape=() dtype=float32, numpy=0.0>, <tf.Variable 'Variable:0' shape=() dtype=float32, numpy=5.0>)\n"
     ]
    }
   ],
   "source": [
    "class MyModel(tf.Module):\n",
    "  def __init__(self, **kwargs):\n",
    "    super().__init__(**kwargs)\n",
    "    # Initialize the weights to `5.0` and the bias to `0.0`\n",
    "    # It can be randomly initialized\n",
    "    self.w = tf.Variable(5.0)\n",
    "    self.b = tf.Variable(0.0)\n",
    "\n",
    "  def __call__(self, x):\n",
    "    return self.w * x + self.b\n",
    "\n",
    "model = MyModel()\n",
    "\n",
    "# List the variables tf.modules's built-in variable aggregation.\n",
    "print(\"Variables:\\n\", model.variables)\n",
    "\n",
    "# Verify the model works\n",
    "assert model(3.0).numpy() == 15.0"
   ]
  },
  {
   "cell_type": "markdown",
   "id": "909d712e",
   "metadata": {},
   "source": [
    "### define a MSE loss function\n"
   ]
  },
  {
   "cell_type": "code",
   "execution_count": 59,
   "id": "9866de7b",
   "metadata": {},
   "outputs": [],
   "source": [
    "# This computes a single loss value for an entire batch\n",
    "def MSE_loss(target_y, predicted_y):\n",
    "  return tf.reduce_mean(tf.square(target_y - predicted_y))"
   ]
  },
  {
   "cell_type": "code",
   "execution_count": 60,
   "id": "863e5abb",
   "metadata": {},
   "outputs": [
    {
     "data": {
      "image/png": "[encoded data removed]",
      "text/plain": [
       "<Figure size 432x288 with 1 Axes>"
      ]
     },
     "metadata": {
      "needs_background": "light"
     },
     "output_type": "display_data"
    },
    {
     "name": "stdout",
     "output_type": "stream",
     "text": [
      "Current loss: 9.942327\n"
     ]
    }
   ],
   "source": [
    "# loss values at before training - \n",
    "\n",
    "plt.scatter(x, y, c=\"b\")\n",
    "plt.scatter(x, model(x), c=\"r\")\n",
    "plt.show()\n",
    "initialLoss = MSE_loss(model(x), y).numpy()\n",
    "print(f\"Current loss: {initialLoss:1.6f}\")"
   ]
  },
  {
   "cell_type": "code",
   "execution_count": 61,
   "id": "cafc8834",
   "metadata": {},
   "outputs": [],
   "source": [
    "### Define our training loop"
   ]
  },
  {
   "cell_type": "code",
   "execution_count": 62,
   "id": "83ffb5ab",
   "metadata": {},
   "outputs": [],
   "source": [
    "# Given a callable model, inputs, outputs, and a learning rate...\n",
    "def train(model, x, y, learning_rate):\n",
    "\n",
    "  with tf.GradientTape() as t:\n",
    "    current_loss = MSE_loss(y, model(x))\n",
    "\n",
    "  # Use GradientTape to calculate the gradients with respect to W and b\n",
    "  dw, db = t.gradient(current_loss, [model.w, model.b]) \n",
    "\n",
    "  # Subtract the gradient scaled by the learning rate\n",
    "  model.w.assign_sub(learning_rate * dw) ## w_new = w_old - eta * dc_dw\n",
    "  model.b.assign_sub(learning_rate * db) ## bias_new = bias_old - eta * dc_db"
   ]
  },
  {
   "cell_type": "code",
   "execution_count": 63,
   "id": "9ed6875f",
   "metadata": {},
   "outputs": [],
   "source": [
    "# initialize our model\n",
    "model = MyModel()\n",
    "\n",
    "# Collect the history of W-values and b-values for plotting\n",
    "Ws, bs = [], []\n",
    "epochs = range(10)\n",
    "LEARNING_RATE=0.1\n",
    "\n",
    "# Define a training loop\n",
    "def training_loop(model, x, y, LEARNING_RATE):\n",
    "  for epoch in epochs:\n",
    "    # Update the model with the single giant batch\n",
    "    train(model, x, y, learning_rate=LEARNING_RATE)\n",
    "\n",
    "    # Append current w and b to keep track of it\n",
    "    Ws.append(model.w.numpy())\n",
    "    bs.append(model.b.numpy())\n",
    "    current_loss = MSE_loss(y, model(x))\n",
    "\n",
    "    print(f\"Epoch {epoch:2d}: W={Ws[-1]:1.2f} b={bs[-1]: 1.2f}, loss={current_loss: 2.5f}\")\n",
    "    # print(\"Epoch %2d: W=%1.2f b=%1.2f, loss=%2.5f\" %\n",
    "    #       (epoch, Ws[-1], bs[-1], ))\n"
   ]
  },
  {
   "cell_type": "code",
   "execution_count": 64,
   "id": "eb740606",
   "metadata": {},
   "outputs": [
    {
     "name": "stdout",
     "output_type": "stream",
     "text": [
      "Initial W= 5.00 b= 0.00, loss= 9.94233\n",
      "Epoch  0: W=4.54 b= 0.38, loss= 6.73584\n",
      "Epoch  1: W=4.18 b= 0.69, loss= 4.69614\n",
      "Epoch  2: W=3.90 b= 0.95, loss= 3.39574\n",
      "Epoch  3: W=3.68 b= 1.15, loss= 2.56495\n",
      "Epoch  4: W=3.50 b= 1.33, loss= 2.03317\n",
      "Epoch  5: W=3.37 b= 1.47, loss= 1.69218\n",
      "Epoch  6: W=3.26 b= 1.58, loss= 1.47318\n",
      "Epoch  7: W=3.18 b= 1.67, loss= 1.33232\n",
      "Epoch  8: W=3.11 b= 1.75, loss= 1.24160\n",
      "Epoch  9: W=3.06 b= 1.81, loss= 1.18310\n"
     ]
    },
    {
     "data": {
      "image/png": "[encoded data removed]",
      "text/plain": [
       "<Figure size 432x288 with 1 Axes>"
      ]
     },
     "metadata": {
      "needs_background": "light"
     },
     "output_type": "display_data"
    }
   ],
   "source": [
    "w = model.w.numpy()\n",
    "b = model.b.numpy()\n",
    "print(f\"Initial W={w: 1.2f} b={b: 1.2f}, loss={initialLoss: 2.5f}\")\n",
    "\n",
    "# Do the training\n",
    "training_loop(model, x, y, LEARNING_RATE)\n",
    "\n",
    "# Plot it\n",
    "plt.plot(epochs, Ws, \"r\",\n",
    "         epochs, bs, \"b\")\n",
    "\n",
    "plt.plot([TRUE_W] * len(epochs), \"r--\",\n",
    "         [TRUE_B] * len(epochs), \"b--\")\n",
    "\n",
    "plt.legend([\"W\", \"b\", \"True W\", \"True b\"])\n",
    "plt.show()\n"
   ]
  },
  {
   "cell_type": "code",
   "execution_count": 55,
   "id": "d4b5edf1",
   "metadata": {},
   "outputs": [
    {
     "data": {
      "image/png": "[encoded data removed]",
      "text/plain": [
       "<Figure size 432x288 with 1 Axes>"
      ]
     },
     "metadata": {
      "needs_background": "light"
     },
     "output_type": "display_data"
    },
    {
     "name": "stdout",
     "output_type": "stream",
     "text": [
      "Current loss: 1.183098\n"
     ]
    }
   ],
   "source": [
    "# Visualize how the trained model performs\n",
    "plt.scatter(x, y, c=\"b\")\n",
    "plt.scatter(x, model(x), c=\"r\")\n",
    "plt.show()\n",
    "\n",
    "loss_after_training = MSE_loss(model(x), y).numpy()\n",
    "print(f\"Current loss: {loss_after_training:1.6f}\")"
   ]
  },
  {
   "cell_type": "code",
   "execution_count": null,
   "id": "af4c330d",
   "metadata": {},
   "outputs": [],
   "source": []
  }
 ],
 "metadata": {
  "kernelspec": {
   "display_name": "Python 3",
   "language": "python",
   "name": "python3"
  },
  "language_info": {
   "codemirror_mode": {
    "name": "ipython",
    "version": 3
   },
   "file_extension": ".py",
   "mimetype": "text/x-python",
   "name": "python",
   "nbconvert_exporter": "python",
   "pygments_lexer": "ipython3",
   "version": "3.9.5"
  }
 },
 "nbformat": 4,
 "nbformat_minor": 5
}
